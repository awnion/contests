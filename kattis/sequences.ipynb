{
 "cells": [
  {
   "cell_type": "code",
   "execution_count": 123,
   "metadata": {},
   "outputs": [],
   "source": [
    "def solution(a):\n",
    "    p_mod = 10**9 + 7\n",
    "    ans = 0\n",
    "    q = 0\n",
    "    qq = 1\n",
    "    o = 0\n",
    "    for c in a:\n",
    "        if c == '?':\n",
    "            ans = ans*2 + o * qq + q * qq // 2\n",
    "            q += 1\n",
    "            qq <<= 1\n",
    "        elif c == '0':\n",
    "            ans = ans + o * qq + q * qq // 2\n",
    "        else:\n",
    "            o += 1\n",
    "    return ans % p_mod"
   ]
  },
  {
   "cell_type": "code",
   "execution_count": 124,
   "metadata": {},
   "outputs": [],
   "source": [
    "import re\n",
    "from itertools import product\n",
    "\n",
    "def moves(s):\n",
    "    j = 0\n",
    "    ans = 0\n",
    "    for i, x in enumerate(s):\n",
    "        if x == '0':\n",
    "            ans += i - j\n",
    "            j += 1\n",
    "    return ans\n",
    "\n",
    "def solution2(s):\n",
    "    pattern = re.compile(s.replace('?', '.'))\n",
    "    a = [''.join(x) for x in product('01', repeat=len(s))]\n",
    "    a = [x for x in a if pattern.match(x)]\n",
    "    return sum(map(moves, a))"
   ]
  },
  {
   "cell_type": "code",
   "execution_count": 128,
   "metadata": {},
   "outputs": [],
   "source": [
    "def check(fn1, fn2):\n",
    "    for i in range(3, 5):\n",
    "        for x in product('0?1', repeat=i):\n",
    "            s = ''.join(x)\n",
    "            s1 = fn1(s)\n",
    "            s2 = fn2(s)\n",
    "            if s1 != s2:\n",
    "                print(s1 == s2, s, s1, s2)\n",
    "                return False\n",
    "    return True"
   ]
  },
  {
   "cell_type": "code",
   "execution_count": 129,
   "metadata": {},
   "outputs": [
    {
     "output_type": "execute_result",
     "data": {
      "text/plain": "True"
     },
     "metadata": {},
     "execution_count": 129
    }
   ],
   "source": [
    "check(solution, solution2)"
   ]
  },
  {
   "cell_type": "code",
   "execution_count": 148,
   "metadata": {},
   "outputs": [],
   "source": [
    "!g++ sequences.cpp -o sequence.out"
   ]
  },
  {
   "cell_type": "code",
   "execution_count": 159,
   "metadata": {},
   "outputs": [],
   "source": [
    "from subprocess import Popen, PIPE, STDOUT\n",
    "\n",
    "def solution3(s):\n",
    "    p = Popen('./sequence.out', stdin=PIPE, stdout=PIPE)\n",
    "    out = p.communicate(input=s.encode())\n",
    "    return int(out[0])\n"
   ]
  },
  {
   "cell_type": "code",
   "execution_count": 160,
   "metadata": {},
   "outputs": [],
   "source": [
    "a = 3\n",
    "while a < 500:\n",
    "    s = '?' * a\n",
    "    s1 = solution(s)\n",
    "    s2 = solution3(s)\n",
    "    if s1 != s2:\n",
    "        print(s, s1, s2)\n",
    "        a -= 1\n",
    "        s = '?' * a\n",
    "        s1 = solution(s)\n",
    "        s2 = solution3(s)\n",
    "        print(s, s1, s2)\n",
    "        break\n",
    "    a += 1"
   ]
  },
  {
   "cell_type": "code",
   "execution_count": 162,
   "metadata": {},
   "outputs": [
    {
     "output_type": "execute_result",
     "data": {
      "text/plain": "0"
     },
     "metadata": {},
     "execution_count": 162
    }
   ],
   "source": [
    "solution3('')"
   ]
  },
  {
   "cell_type": "code",
   "execution_count": null,
   "metadata": {},
   "outputs": [],
   "source": []
  },
  {
   "cell_type": "code",
   "execution_count": null,
   "metadata": {},
   "outputs": [],
   "source": []
  }
 ],
 "metadata": {
  "language_info": {
   "codemirror_mode": {
    "name": "ipython",
    "version": 3
   },
   "file_extension": ".py",
   "mimetype": "text/x-python",
   "name": "python",
   "nbconvert_exporter": "python",
   "pygments_lexer": "ipython3",
   "version": "3.7.4-final"
  },
  "orig_nbformat": 2,
  "kernelspec": {
   "name": "python3",
   "display_name": "Python 3"
  }
 },
 "nbformat": 4,
 "nbformat_minor": 2
}